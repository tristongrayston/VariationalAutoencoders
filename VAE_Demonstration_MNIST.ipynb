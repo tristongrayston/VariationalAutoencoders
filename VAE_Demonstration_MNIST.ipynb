{
 "cells": [
  {
   "cell_type": "markdown",
   "id": "91b27527",
   "metadata": {},
   "source": [
    "Meant to be a tool to help with the understanding of VAE's. "
   ]
  },
  {
   "cell_type": "code",
   "execution_count": 1,
   "id": "93a88d92",
   "metadata": {},
   "outputs": [],
   "source": [
    "import numpy as np\n",
    "import matplotlib.pyplot as plt\n",
    "import torch\n",
    "import torchvision\n",
    "import torchvision.datasets as datasets\n",
    "from tqdm import tqdm"
   ]
  },
  {
   "cell_type": "markdown",
   "id": "35359d7c",
   "metadata": {},
   "source": [
    "Import the MNIST dataset."
   ]
  },
  {
   "cell_type": "code",
   "execution_count": 2,
   "id": "07f27ffe",
   "metadata": {},
   "outputs": [],
   "source": [
    "# Define batch size variables for our training data\n",
    "batch_size_train = 64\n",
    "\n",
    "# todo: learn what a dataloader is.\n",
    "train_loader = torch.utils.data.DataLoader(\n",
    "    datasets.MNIST(root='./data', train=True, download=True,\n",
    "                               transform=torchvision.transforms.Compose([\n",
    "                                   torchvision.transforms.ToTensor()\n",
    "                               ])), batch_size=batch_size_train, shuffle=True)\n",
    "\n",
    "test_loader = torch.utils.data.DataLoader(\n",
    "    torchvision.datasets.MNIST(root='./data', train=False, download=True,\n",
    "                              transform=torchvision.transforms.Compose([\n",
    "                                  torchvision.transforms.ToTensor()\n",
    "                              ])))\n"
   ]
  },
  {
   "cell_type": "markdown",
   "id": "aedec934",
   "metadata": {},
   "source": [
    "## ChatGPT's Explination for the Code Above:\n",
    "The code you provided sets up data loaders for the MNIST dataset in PyTorch, which are used for loading and batching the data during training and testing of a machine learning model. Let's break down the code and understand what each part does:\n",
    "\n",
    "torch.utils.data.DataLoader: This is a PyTorch utility for creating data loaders, which are used for loading and batching data during training or testing.\n",
    "\n",
    "datasets.MNIST: This is a PyTorch built-in dataset class for the MNIST dataset, which is a widely used dataset of handwritten digits.\n",
    "\n",
    "root: This is the directory where the MNIST dataset will be downloaded and stored.\n",
    "\n",
    "train=True / train=False: This specifies whether to load the training set (train=True) or the test set (train=False) of the MNIST dataset.\n",
    "\n",
    "download=True: This indicates that the dataset should be downloaded if it doesn't already exist in the specified root directory.\n",
    "\n",
    "transform: This is an optional argument that specifies the data transformation pipeline to be applied on the loaded data. In this case, the pipeline includes converting the images to tensors (torchvision.transforms.ToTensor()) and normalizing the pixel values of the images to a specified mean and standard deviation using torchvision.transforms.Normalize().\n",
    "\n",
    "batch_size: This specifies the number of samples to be loaded and processed together in each batch during training or testing.\n",
    "\n",
    "shuffle: This indicates whether to shuffle the data during loading. If set to True, the data will be shuffled randomly at the beginning of each epoch during training, which helps in improving the model's ability to generalize.\n",
    "\n",
    "So, train_loader and test_loader are data loaders that are set up to load and batch the MNIST dataset for training and testing respectively, with specified data transformations, batch sizes, and shuffling settings. These data loaders can be used in a PyTorch model training loop to iterate over the data and feed it to the model for training or testing.\n",
    "\n",
    "\n",
    "#### Dataloader Cheatsheet\n"
   ]
  },
  {
   "cell_type": "code",
   "execution_count": 3,
   "id": "48ae2c88",
   "metadata": {},
   "outputs": [
    {
     "name": "stdout",
     "output_type": "stream",
     "text": [
      "<torch.utils.data.dataloader.DataLoader object at 0x7ff0544135b0>\n",
      "torch.Size([1, 28, 28])\n",
      "\n"
     ]
    },
    {
     "data": {
      "image/png": "[encoded data removed]",
      "text/plain": [
       "<Figure size 640x480 with 2 Axes>"
      ]
     },
     "metadata": {},
     "output_type": "display_data"
    }
   ],
   "source": [
    "print(train_loader)\n",
    "for i, data in enumerate(train_loader):\n",
    "    x_imgs, labels = data\n",
    "    img = x_imgs[0]\n",
    "    img_auto = img\n",
    "    print(img.shape)\n",
    "    image = img.numpy()\n",
    "    \n",
    "    plt.imshow(np.squeeze(image), cmap='gray')\n",
    "    plt.colorbar()\n",
    "    print()\n",
    "    break\n",
    "    "
   ]
  },
  {
   "cell_type": "markdown",
   "id": "0d9adfb3",
   "metadata": {},
   "source": [
    "My initial understanding of a VAE is that it follows a similar form to that of a convolutional network + a up-convolutional network. \n",
    "\n"
   ]
  },
  {
   "cell_type": "code",
   "execution_count": 4,
   "id": "001cb52d",
   "metadata": {},
   "outputs": [],
   "source": [
    "import torch.nn as nn\n",
    "\n",
    "class Autoencoder():\n",
    "    def __init__(self):\n",
    "        \n",
    "        # predicts both mean and standard deviation\n",
    "        self.encoder = nn.Sequential(\n",
    "            nn.Conv2d(1, 16, kernel_size = 3),\n",
    "            nn.ReLU(),\n",
    "            \n",
    "            nn.Conv2d(16, 8, kernel_size = 3),\n",
    "            nn.ReLU(),\n",
    "            \n",
    "            nn.Flatten(start_dim=0),\n",
    "            nn.Linear(4608, 20)\n",
    "        )\n",
    "        \n",
    "        # doesn't take input from encoder directly\n",
    "        self.decoder = nn.Sequential(\n",
    "            nn.Linear(20,4608),\n",
    "            nn.Unflatten(0, torch.Size([8, 24, 24])),\n",
    "            nn.ConvTranspose2d(8, 16, kernel_size=3, padding=1),\n",
    "            nn.ReLU(),\n",
    "            \n",
    "            nn.ConvTranspose2d(16, 1, kernel_size=3, padding=1),\n",
    "            nn.Sigmoid()\n",
    "            \n",
    "        )\n",
    "        "
   ]
  },
  {
   "cell_type": "code",
   "execution_count": 5,
   "id": "4aeca7f1",
   "metadata": {},
   "outputs": [
    {
     "data": {
      "image/png": "[encoded data removed]",
      "text/plain": [
       "<Figure size 640x480 with 1 Axes>"
      ]
     },
     "metadata": {},
     "output_type": "display_data"
    },
    {
     "data": {
      "image/png": "[encoded data removed]",
      "text/plain": [
       "<Figure size 640x480 with 1 Axes>"
      ]
     },
     "metadata": {},
     "output_type": "display_data"
    }
   ],
   "source": [
    "temp_vae = Autoencoder()\n",
    "\n",
    "plt.imshow(np.squeeze(img), cmap='gray')\n",
    "plt.show()\n",
    "\n",
    "latent = temp_vae.encoder(img)\n",
    "x_prime = temp_vae.decoder(latent)\n",
    "#print(x_prime)\n",
    "x_prime = x_prime.detach().numpy()\n",
    "plt.imshow(np.squeeze(x_prime), cmap='gray')\n",
    "plt.show()\n"
   ]
  },
  {
   "cell_type": "markdown",
   "id": "33e0c44e",
   "metadata": {},
   "source": [
    "Vaguely certain that the model I created above would be an example of just a normal autoencoder, as it has no means of recognizing or differentiating mean and standard distributions. \n",
    "\n",
    "The main difference between autoencoders that are variational is that the latent variables for VAE's are stochastic. \n",
    "We split our latent space into two 'types' of latent variables, means and standard distributions, which both make up pairs of latent variable distributions (often normally distributed?)\n",
    "\n",
    "As far as I can understand, the stnd dev and mean variables are split into two different layers.\n",
    "\n",
    "In other words, the latent space isn't nessessarily represented as a part of a machine learning model, it is just the consequence of it. \n",
    "\n",
    "todo: test the difference in functionality between relu and leakyrelu\n",
    "\n",
    "\n"
   ]
  },
  {
   "cell_type": "code",
   "execution_count": 36,
   "id": "2345bdfd",
   "metadata": {},
   "outputs": [],
   "source": [
    "# Define dimentionality for model \n",
    "channel_dim = [16, 32, 64]\n",
    "\n",
    "class VariationalAutoEncoder(nn.Module):\n",
    "    def __init__(self, channel_dim):\n",
    "        super(VariationalAutoEncoder, self).__init__()\n",
    "        \n",
    "        self.channel_dim = [16, 32, 64]\n",
    "        self.LR = 1e-4\n",
    "\n",
    "        # Basic structure, as far as I know is \n",
    "        # Encoder model\n",
    "        self.encoder = nn.Sequential(\n",
    "            nn.Conv2d(1, 40, kernel_size = 3),\n",
    "            nn.ReLU(),\n",
    "            \n",
    "            nn.Conv2d(40, 20, kernel_size = 3),\n",
    "            nn.ReLU(),\n",
    "            \n",
    "            nn.Flatten(start_dim=1),\n",
    "            \n",
    "            # 512 = 8^3 = 4 * 4 * 64, where the image should be 4x4 and 64 filters. \n",
    "            nn.Linear(2000, 100)\n",
    "        )\n",
    "        # Latent-space representation\n",
    "        \n",
    "        self.latent_mean = nn.Linear(100, 50)\n",
    "        self.latent_var = nn.Linear(100, 50)\n",
    "        \n",
    "        # Decoder model\n",
    "        #self.channel_dim = list(reversed(self.channel_dim)) # channel_dim = [64, 32, 16]\n",
    "        \n",
    "        # The decoder model takes a sample from the two latent space representations as an input.\n",
    "        # We then note that unlike other neural networks, we have to make a function that\n",
    "        # sequences through these networks in a 'correct' way, as the networks aren't connected\n",
    "        # like they would in many other models. \n",
    "        \n",
    "        self.decoder = nn.Sequential(\n",
    "            nn.Linear(50, 2000),\n",
    "            \n",
    "            nn.Unflatten(1, torch.Size([20, 10, 10])),\n",
    "\n",
    "            nn.ConvTranspose2d(20, 40, kernel_size = 3, stride = 1),\n",
    "            nn.ReLU(),\n",
    "            \n",
    "            nn.ConvTranspose2d(40, 1, kernel_size = 3, stride = 1),\n",
    "            #nn.ReLU(),\n",
    "            \n",
    "            #nn.Conv2d(16, 1, kernel_size = 3, padding = 1),\n",
    "            \n",
    "            nn.Sigmoid()\n",
    "        )\n",
    "        \n",
    "        #self.optimizers = {'encoder': torch.optim.Adam(self.encoder.parameters(), self.LR), \n",
    "        #                  'decoder': torch.optim.Adam(self.decoder.parameters(), self.LR), \n",
    "        #                 'latent_mean': torch.optim.Adam(self.latent_mean.parameters(), self.LR), \n",
    "        #                  'latent_var': torch.optim.Adam(self.latent_var.parameters(), self.LR)}\n",
    "        \n",
    "        self.optimizer = torch.optim.Adam(self.parameters(), self.LR)\n",
    "        \n",
    "    def reparametrization(self, sample_mean, sample_logvar):\n",
    "        '''\n",
    "        We define a new tensor epsilon with the same batch size as two inputted tensors,\n",
    "        all of epsilon should be normally distributed.\n",
    "        \n",
    "        To be clear: epsilon is a tensor with stand_dev dimentionality, each input being a \n",
    "        sample from a standard normal. We then shift each of these to model 'our normal distribution' \n",
    "       \n",
    "        '''\n",
    "        \n",
    "        stand_dev = torch.exp(0.5 * sample_logvar)\n",
    "        epsilon = torch.randn_like(stand_dev)\n",
    "        sampled_batch = epsilon*stand_dev + sample_mean\n",
    "        return sampled_batch\n",
    "    \n",
    "    def encode(self, input_img):\n",
    "        ''' \n",
    "        We note that because the encoding functionality in variational autoencoders breaks off the input into two seperate layers,\n",
    "        we have to make a seperate function for encoding, rather than simply passing it through the network.\n",
    "        '''\n",
    "        encoded_input = self.encoder(input_img)\n",
    "        \n",
    "        encoded_mean = self.latent_mean(encoded_input)\n",
    "        encoded_var = self.latent_var(encoded_input)\n",
    "        \n",
    "        return [encoded_mean, encoded_var]\n",
    "    \n",
    "    def decode(self, input_img):\n",
    "        '''\n",
    "        We note that our input is already reparametrized, so we don't need to worry about that.\n",
    "        It get's reparameterized in the forward pass. \n",
    "        \n",
    "        '''\n",
    "        return self.decoder(input_img)\n",
    "    \n",
    "    def forward(self, input_image):\n",
    "        '''\n",
    "        Forward passes seem to be simple enough. \n",
    "        '''\n",
    "        latent_rep: list = self.encode(input_image)\n",
    "        reparam_latent = self.reparametrization(latent_rep[0], latent_rep[1])\n",
    "        sampled_image = self.decoder(reparam_latent)\n",
    "        #print(sampled_image.shape)\n",
    "        \n",
    "        return sampled_image, latent_rep\n",
    "    \n",
    "    def backpropogation(self):\n",
    "        pass\n",
    "    \n",
    "    def loss(self, input_img, reconstruction, mean, log_var) -> dict:\n",
    "        '''\n",
    "        There are two primary terms for the loss function in question. The first is the \n",
    "        reconstruction loss, and the other is the KL-divergence. Both measure different things.\n",
    "        \n",
    "        Reconstruction loss is just the difference between the pixels of the two images. It would \n",
    "        be higher, for example, if in one image there was a pixel of 240 and the other had an image\n",
    "        of 5. We will just use standard MSE for this difference.\n",
    "        \n",
    "        KL-divergence accounts for our latent variables. Since we want our latent variables to \n",
    "        model some sort of gausian/normal distribution, we can punish our latent variables for any\n",
    "        deviation between what it currently is and what a normal dist looks like. \n",
    "        \n",
    "        In our case, because we try to find the difference between our mean and var and that of a \n",
    "        stnd. normal, we can justify that the kl divergence simplifies to \n",
    "        -1/2 * sum(1 + log(var) - mean^2 - var)\n",
    "        '''\n",
    "        input_img = input_img\n",
    "        reconstruction = reconstruction\n",
    "        \n",
    "        reconstruction_loss = nn.functional.mse_loss(input_img, reconstruction)\n",
    "                \n",
    "        kl_div = torch.mean(-0.5*torch.sum(1 + log_var - mean**2 - torch.exp(log_var)))\n",
    "        \n",
    "        total_loss = reconstruction_loss  + (1/(1000*64))*kl_div\n",
    "        \n",
    "        #print(\"reconstructed loss: \", reconstruction_loss)\n",
    "        #print(\"kl_div: \", kl_div)\n",
    "        #print(\"total loss: \", total_loss)\n",
    "        \n",
    "        \n",
    "        return {'loss' : total_loss, 'reconstruction_loss' : reconstruction_loss, \n",
    "                'kl_divergence' : kl_div}\n",
    "        \n",
    "    \n",
    "    \n",
    "        \n",
    "\n"
   ]
  },
  {
   "cell_type": "markdown",
   "id": "74476f93",
   "metadata": {},
   "source": [
    "\n",
    "\n"
   ]
  },
  {
   "cell_type": "code",
   "execution_count": 65,
   "id": "d86f27af",
   "metadata": {},
   "outputs": [
    {
     "name": "stderr",
     "output_type": "stream",
     "text": [
      "  1%|▍                                          | 1/100 [00:12<20:46, 12.59s/it]"
     ]
    },
    {
     "name": "stdout",
     "output_type": "stream",
     "text": [
      "kl_loss  898173.1631660461\n",
      "recons loss  55.301709685474634\n"
     ]
    },
    {
     "name": "stderr",
     "output_type": "stream",
     "text": [
      "\r",
      "  2%|▊                                          | 2/100 [00:24<20:17, 12.43s/it]"
     ]
    },
    {
     "name": "stdout",
     "output_type": "stream",
     "text": [
      "kl_loss  1040089.3355712891\n",
      "recons loss  30.423002840951085\n"
     ]
    },
    {
     "name": "stderr",
     "output_type": "stream",
     "text": [
      "\r",
      "  3%|█▎                                         | 3/100 [00:37<20:05, 12.43s/it]"
     ]
    },
    {
     "name": "stdout",
     "output_type": "stream",
     "text": [
      "kl_loss  1073566.7627563477\n",
      "recons loss  25.62320875003934\n"
     ]
    },
    {
     "name": "stderr",
     "output_type": "stream",
     "text": [
      "\r",
      "  4%|█▋                                         | 4/100 [00:52<21:34, 13.49s/it]"
     ]
    },
    {
     "name": "stdout",
     "output_type": "stream",
     "text": [
      "kl_loss  1082765.7888793945\n",
      "recons loss  22.93238533847034\n"
     ]
    },
    {
     "name": "stderr",
     "output_type": "stream",
     "text": [
      "\r",
      "  5%|██▏                                        | 5/100 [01:03<19:57, 12.61s/it]"
     ]
    },
    {
     "name": "stdout",
     "output_type": "stream",
     "text": [
      "kl_loss  1074446.5838012695\n",
      "recons loss  21.343626849353313\n"
     ]
    },
    {
     "name": "stderr",
     "output_type": "stream",
     "text": [
      "\r",
      "  6%|██▌                                        | 6/100 [01:14<18:47, 12.00s/it]"
     ]
    },
    {
     "name": "stdout",
     "output_type": "stream",
     "text": [
      "kl_loss  1063718.01953125\n",
      "recons loss  20.307880071923137\n"
     ]
    },
    {
     "name": "stderr",
     "output_type": "stream",
     "text": [
      "\r",
      "  7%|███                                        | 7/100 [01:25<17:59, 11.61s/it]"
     ]
    },
    {
     "name": "stdout",
     "output_type": "stream",
     "text": [
      "kl_loss  1055463.1322631836\n",
      "recons loss  19.584936609491706\n"
     ]
    },
    {
     "name": "stderr",
     "output_type": "stream",
     "text": [
      "\r",
      "  8%|███▍                                       | 8/100 [01:36<17:27, 11.38s/it]"
     ]
    },
    {
     "name": "stdout",
     "output_type": "stream",
     "text": [
      "kl_loss  1045375.118347168\n",
      "recons loss  19.077114813029766\n"
     ]
    },
    {
     "name": "stderr",
     "output_type": "stream",
     "text": [
      "\r",
      "  9%|███▊                                       | 9/100 [01:46<17:00, 11.22s/it]"
     ]
    },
    {
     "name": "stdout",
     "output_type": "stream",
     "text": [
      "kl_loss  1038803.1962280273\n",
      "recons loss  18.66170940361917\n"
     ]
    },
    {
     "name": "stderr",
     "output_type": "stream",
     "text": [
      "\r",
      " 10%|████▏                                     | 10/100 [01:58<16:49, 11.22s/it]"
     ]
    },
    {
     "name": "stdout",
     "output_type": "stream",
     "text": [
      "kl_loss  1033409.6184082031\n",
      "recons loss  18.325388794764876\n"
     ]
    },
    {
     "name": "stderr",
     "output_type": "stream",
     "text": [
      "\r",
      " 11%|████▌                                     | 11/100 [02:10<17:10, 11.58s/it]"
     ]
    },
    {
     "name": "stdout",
     "output_type": "stream",
     "text": [
      "kl_loss  1027975.8689575195\n",
      "recons loss  18.089775811880827\n"
     ]
    },
    {
     "name": "stderr",
     "output_type": "stream",
     "text": [
      "\r",
      " 12%|█████                                     | 12/100 [02:21<16:54, 11.53s/it]"
     ]
    },
    {
     "name": "stdout",
     "output_type": "stream",
     "text": [
      "kl_loss  1021245.1167602539\n",
      "recons loss  17.888320373371243\n"
     ]
    },
    {
     "name": "stderr",
     "output_type": "stream",
     "text": [
      "\r",
      " 13%|█████▍                                    | 13/100 [02:33<16:45, 11.56s/it]"
     ]
    },
    {
     "name": "stdout",
     "output_type": "stream",
     "text": [
      "kl_loss  1017903.7435302734\n",
      "recons loss  17.66584892384708\n"
     ]
    },
    {
     "name": "stderr",
     "output_type": "stream",
     "text": [
      "\r",
      " 14%|█████▉                                    | 14/100 [02:45<16:56, 11.81s/it]"
     ]
    },
    {
     "name": "stdout",
     "output_type": "stream",
     "text": [
      "kl_loss  1015881.1798095703\n",
      "recons loss  17.481677321717143\n"
     ]
    },
    {
     "name": "stderr",
     "output_type": "stream",
     "text": [
      "\r",
      " 15%|██████▎                                   | 15/100 [02:57<16:30, 11.65s/it]"
     ]
    },
    {
     "name": "stdout",
     "output_type": "stream",
     "text": [
      "kl_loss  1012948.7256469727\n",
      "recons loss  17.314370831474662\n"
     ]
    },
    {
     "name": "stderr",
     "output_type": "stream",
     "text": [
      "\r",
      " 16%|██████▋                                   | 16/100 [03:10<17:05, 12.21s/it]"
     ]
    },
    {
     "name": "stdout",
     "output_type": "stream",
     "text": [
      "kl_loss  1010591.1607666016\n",
      "recons loss  17.177002981305122\n"
     ]
    },
    {
     "name": "stderr",
     "output_type": "stream",
     "text": [
      "\r",
      " 17%|███████▏                                  | 17/100 [03:23<16:57, 12.26s/it]"
     ]
    },
    {
     "name": "stdout",
     "output_type": "stream",
     "text": [
      "kl_loss  1010991.1094360352\n",
      "recons loss  17.054317474365234\n"
     ]
    },
    {
     "name": "stderr",
     "output_type": "stream",
     "text": [
      "\r",
      " 18%|███████▌                                  | 18/100 [03:33<16:10, 11.83s/it]"
     ]
    },
    {
     "name": "stdout",
     "output_type": "stream",
     "text": [
      "kl_loss  1010287.133972168\n",
      "recons loss  16.922029091976583\n"
     ]
    },
    {
     "name": "stderr",
     "output_type": "stream",
     "text": [
      "\r",
      " 19%|███████▉                                  | 19/100 [03:45<15:49, 11.72s/it]"
     ]
    },
    {
     "name": "stdout",
     "output_type": "stream",
     "text": [
      "kl_loss  1012398.395690918\n",
      "recons loss  16.818111047148705\n"
     ]
    },
    {
     "name": "stderr",
     "output_type": "stream",
     "text": [
      "\r",
      " 20%|████████▍                                 | 20/100 [03:57<15:37, 11.72s/it]"
     ]
    },
    {
     "name": "stdout",
     "output_type": "stream",
     "text": [
      "kl_loss  1010092.1923217773\n",
      "recons loss  16.72752201091498\n"
     ]
    },
    {
     "name": "stderr",
     "output_type": "stream",
     "text": [
      "\r",
      " 21%|████████▊                                 | 21/100 [04:08<15:27, 11.74s/it]"
     ]
    },
    {
     "name": "stdout",
     "output_type": "stream",
     "text": [
      "kl_loss  1008913.0550537109\n",
      "recons loss  16.633148979395628\n"
     ]
    },
    {
     "name": "stderr",
     "output_type": "stream",
     "text": [
      "\r",
      " 22%|█████████▏                                | 22/100 [04:20<15:10, 11.67s/it]"
     ]
    },
    {
     "name": "stdout",
     "output_type": "stream",
     "text": [
      "kl_loss  1008487.707824707\n",
      "recons loss  16.540311614982784\n"
     ]
    },
    {
     "name": "stderr",
     "output_type": "stream",
     "text": [
      "\r",
      " 23%|█████████▋                                | 23/100 [04:32<15:11, 11.84s/it]"
     ]
    },
    {
     "name": "stdout",
     "output_type": "stream",
     "text": [
      "kl_loss  1007709.192565918\n",
      "recons loss  16.455745654180646\n"
     ]
    },
    {
     "name": "stderr",
     "output_type": "stream",
     "text": [
      "\r",
      " 24%|██████████                                | 24/100 [04:44<15:07, 11.94s/it]"
     ]
    },
    {
     "name": "stdout",
     "output_type": "stream",
     "text": [
      "kl_loss  1007937.3901977539\n",
      "recons loss  16.38767324667424\n"
     ]
    },
    {
     "name": "stderr",
     "output_type": "stream",
     "text": [
      "\r",
      " 25%|██████████▌                               | 25/100 [04:57<15:10, 12.14s/it]"
     ]
    },
    {
     "name": "stdout",
     "output_type": "stream",
     "text": [
      "kl_loss  1006614.8680725098\n",
      "recons loss  16.313390628434718\n"
     ]
    },
    {
     "name": "stderr",
     "output_type": "stream",
     "text": [
      "\r",
      " 26%|██████████▉                               | 26/100 [05:09<15:02, 12.19s/it]"
     ]
    },
    {
     "name": "stdout",
     "output_type": "stream",
     "text": [
      "kl_loss  1007544.5167236328\n",
      "recons loss  16.26483103260398\n"
     ]
    },
    {
     "name": "stderr",
     "output_type": "stream",
     "text": [
      "\r",
      " 27%|███████████▎                              | 27/100 [05:21<14:48, 12.17s/it]"
     ]
    },
    {
     "name": "stdout",
     "output_type": "stream",
     "text": [
      "kl_loss  1005335.5780639648\n",
      "recons loss  16.202198525890708\n"
     ]
    },
    {
     "name": "stderr",
     "output_type": "stream",
     "text": [
      "\r",
      " 28%|███████████▊                              | 28/100 [05:33<14:27, 12.05s/it]"
     ]
    },
    {
     "name": "stdout",
     "output_type": "stream",
     "text": [
      "kl_loss  1005938.7639770508\n",
      "recons loss  16.145169023424387\n"
     ]
    },
    {
     "name": "stderr",
     "output_type": "stream",
     "text": [
      "\r",
      " 29%|████████████▏                             | 29/100 [05:45<14:16, 12.06s/it]"
     ]
    },
    {
     "name": "stdout",
     "output_type": "stream",
     "text": [
      "kl_loss  1004556.2595214844\n",
      "recons loss  16.091457452625036\n"
     ]
    },
    {
     "name": "stderr",
     "output_type": "stream",
     "text": [
      "\r",
      " 30%|████████████▌                             | 30/100 [05:57<13:57, 11.96s/it]"
     ]
    },
    {
     "name": "stdout",
     "output_type": "stream",
     "text": [
      "kl_loss  1003458.8987426758\n",
      "recons loss  16.03414052259177\n"
     ]
    },
    {
     "name": "stderr",
     "output_type": "stream",
     "text": [
      "\r",
      " 31%|█████████████                             | 31/100 [06:10<14:01, 12.19s/it]"
     ]
    },
    {
     "name": "stdout",
     "output_type": "stream",
     "text": [
      "kl_loss  1003857.0526123047\n",
      "recons loss  15.992304805666208\n"
     ]
    },
    {
     "name": "stderr",
     "output_type": "stream",
     "text": [
      "\r",
      " 32%|█████████████▍                            | 32/100 [06:22<13:50, 12.21s/it]"
     ]
    },
    {
     "name": "stdout",
     "output_type": "stream",
     "text": [
      "kl_loss  1003312.0388183594\n",
      "recons loss  15.954017342068255\n"
     ]
    },
    {
     "name": "stderr",
     "output_type": "stream",
     "text": [
      "\r",
      " 33%|█████████████▊                            | 33/100 [06:34<13:39, 12.23s/it]"
     ]
    },
    {
     "name": "stdout",
     "output_type": "stream",
     "text": [
      "kl_loss  1002502.541809082\n",
      "recons loss  15.891705456189811\n"
     ]
    },
    {
     "name": "stderr",
     "output_type": "stream",
     "text": [
      "\r",
      " 34%|██████████████▎                           | 34/100 [06:48<13:55, 12.67s/it]"
     ]
    },
    {
     "name": "stdout",
     "output_type": "stream",
     "text": [
      "kl_loss  1002491.8572387695\n",
      "recons loss  15.855305414646864\n"
     ]
    },
    {
     "name": "stderr",
     "output_type": "stream",
     "text": [
      "\r",
      " 35%|██████████████▋                           | 35/100 [07:00<13:39, 12.60s/it]"
     ]
    },
    {
     "name": "stdout",
     "output_type": "stream",
     "text": [
      "kl_loss  1000552.8472900391\n",
      "recons loss  15.828280702233315\n"
     ]
    },
    {
     "name": "stderr",
     "output_type": "stream",
     "text": [
      "\r",
      " 36%|███████████████                           | 36/100 [07:14<13:54, 13.04s/it]"
     ]
    },
    {
     "name": "stdout",
     "output_type": "stream",
     "text": [
      "kl_loss  1000492.1876831055\n",
      "recons loss  15.785208901390433\n"
     ]
    },
    {
     "name": "stderr",
     "output_type": "stream",
     "text": [
      "\r",
      " 37%|███████████████▌                          | 37/100 [07:27<13:31, 12.88s/it]"
     ]
    },
    {
     "name": "stdout",
     "output_type": "stream",
     "text": [
      "kl_loss  999231.4143066406\n",
      "recons loss  15.741835379973054\n"
     ]
    },
    {
     "name": "stderr",
     "output_type": "stream",
     "text": [
      "\r",
      " 38%|███████████████▉                          | 38/100 [07:39<12:58, 12.56s/it]"
     ]
    },
    {
     "name": "stdout",
     "output_type": "stream",
     "text": [
      "kl_loss  997925.4898681641\n",
      "recons loss  15.703520963899791\n"
     ]
    },
    {
     "name": "stderr",
     "output_type": "stream",
     "text": [
      "\r",
      " 39%|████████████████▍                         | 39/100 [07:51<12:33, 12.36s/it]"
     ]
    },
    {
     "name": "stdout",
     "output_type": "stream",
     "text": [
      "kl_loss  996596.3510742188\n",
      "recons loss  15.668629558756948\n"
     ]
    },
    {
     "name": "stderr",
     "output_type": "stream",
     "text": [
      "\r",
      " 40%|████████████████▊                         | 40/100 [08:02<12:07, 12.12s/it]"
     ]
    },
    {
     "name": "stdout",
     "output_type": "stream",
     "text": [
      "kl_loss  998132.972442627\n",
      "recons loss  15.646747008897364\n"
     ]
    },
    {
     "name": "stderr",
     "output_type": "stream",
     "text": [
      "\r",
      " 41%|█████████████████▏                        | 41/100 [08:13<11:40, 11.87s/it]"
     ]
    },
    {
     "name": "stdout",
     "output_type": "stream",
     "text": [
      "kl_loss  996606.6037597656\n",
      "recons loss  15.605148192495108\n"
     ]
    },
    {
     "name": "stderr",
     "output_type": "stream",
     "text": [
      "\r",
      " 42%|█████████████████▋                        | 42/100 [08:25<11:26, 11.84s/it]"
     ]
    },
    {
     "name": "stdout",
     "output_type": "stream",
     "text": [
      "kl_loss  994549.5679321289\n",
      "recons loss  15.565437537617981\n"
     ]
    },
    {
     "name": "stderr",
     "output_type": "stream",
     "text": [
      "\r",
      " 43%|██████████████████                        | 43/100 [08:37<11:19, 11.93s/it]"
     ]
    },
    {
     "name": "stdout",
     "output_type": "stream",
     "text": [
      "kl_loss  995461.3868408203\n",
      "recons loss  15.553622256964445\n"
     ]
    },
    {
     "name": "stderr",
     "output_type": "stream",
     "text": [
      "\r",
      " 44%|██████████████████▍                       | 44/100 [08:50<11:22, 12.18s/it]"
     ]
    },
    {
     "name": "stdout",
     "output_type": "stream",
     "text": [
      "kl_loss  994013.8008422852\n",
      "recons loss  15.518169754184783\n"
     ]
    },
    {
     "name": "stderr",
     "output_type": "stream",
     "text": [
      "\r",
      " 45%|██████████████████▉                       | 45/100 [09:04<11:36, 12.66s/it]"
     ]
    },
    {
     "name": "stdout",
     "output_type": "stream",
     "text": [
      "kl_loss  992047.9639587402\n",
      "recons loss  15.46346274856478\n"
     ]
    },
    {
     "name": "stderr",
     "output_type": "stream",
     "text": [
      "\r",
      " 46%|███████████████████▎                      | 46/100 [09:17<11:36, 12.89s/it]"
     ]
    },
    {
     "name": "stdout",
     "output_type": "stream",
     "text": [
      "kl_loss  990990.7116088867\n",
      "recons loss  15.450945768505335\n"
     ]
    },
    {
     "name": "stderr",
     "output_type": "stream",
     "text": [
      "\r",
      " 47%|███████████████████▋                      | 47/100 [09:29<11:10, 12.65s/it]"
     ]
    },
    {
     "name": "stdout",
     "output_type": "stream",
     "text": [
      "kl_loss  990420.4970703125\n",
      "recons loss  15.418495218269527\n"
     ]
    },
    {
     "name": "stderr",
     "output_type": "stream",
     "text": [
      "\r",
      " 48%|████████████████████▏                     | 48/100 [09:41<10:37, 12.27s/it]"
     ]
    },
    {
     "name": "stdout",
     "output_type": "stream",
     "text": [
      "kl_loss  989869.6914672852\n",
      "recons loss  15.422956580296159\n"
     ]
    },
    {
     "name": "stderr",
     "output_type": "stream",
     "text": [
      "\r",
      " 49%|████████████████████▌                     | 49/100 [09:52<10:08, 11.94s/it]"
     ]
    },
    {
     "name": "stdout",
     "output_type": "stream",
     "text": [
      "kl_loss  990041.6530151367\n",
      "recons loss  15.38227160833776\n"
     ]
    },
    {
     "name": "stderr",
     "output_type": "stream",
     "text": [
      "\r",
      " 50%|█████████████████████                     | 50/100 [10:04<09:59, 11.98s/it]"
     ]
    },
    {
     "name": "stdout",
     "output_type": "stream",
     "text": [
      "kl_loss  989924.0448608398\n",
      "recons loss  15.364717980846763\n"
     ]
    },
    {
     "name": "stderr",
     "output_type": "stream",
     "text": [
      "\r",
      " 51%|█████████████████████▍                    | 51/100 [10:15<09:36, 11.77s/it]"
     ]
    },
    {
     "name": "stdout",
     "output_type": "stream",
     "text": [
      "kl_loss  989606.500793457\n",
      "recons loss  15.339999384246767\n"
     ]
    },
    {
     "name": "stderr",
     "output_type": "stream",
     "text": [
      "\r",
      " 52%|█████████████████████▊                    | 52/100 [10:26<09:13, 11.54s/it]"
     ]
    },
    {
     "name": "stdout",
     "output_type": "stream",
     "text": [
      "kl_loss  989503.7261962891\n",
      "recons loss  15.31582953222096\n"
     ]
    },
    {
     "name": "stderr",
     "output_type": "stream",
     "text": [
      "\r",
      " 53%|██████████████████████▎                   | 53/100 [10:38<09:05, 11.60s/it]"
     ]
    },
    {
     "name": "stdout",
     "output_type": "stream",
     "text": [
      "kl_loss  988642.483215332\n",
      "recons loss  15.275994665920734\n"
     ]
    },
    {
     "name": "stderr",
     "output_type": "stream",
     "text": [
      "\r",
      " 54%|██████████████████████▋                   | 54/100 [10:50<08:56, 11.67s/it]"
     ]
    },
    {
     "name": "stdout",
     "output_type": "stream",
     "text": [
      "kl_loss  988626.1007080078\n",
      "recons loss  15.255206669680774\n"
     ]
    },
    {
     "name": "stderr",
     "output_type": "stream",
     "text": [
      "\r",
      " 55%|███████████████████████                   | 55/100 [11:02<08:51, 11.81s/it]"
     ]
    },
    {
     "name": "stdout",
     "output_type": "stream",
     "text": [
      "kl_loss  986143.6782226562\n",
      "recons loss  15.245507848449051\n"
     ]
    },
    {
     "name": "stderr",
     "output_type": "stream",
     "text": [
      "\r",
      " 56%|███████████████████████▌                  | 56/100 [11:17<09:17, 12.67s/it]"
     ]
    },
    {
     "name": "stdout",
     "output_type": "stream",
     "text": [
      "kl_loss  986561.7477416992\n",
      "recons loss  15.216471103951335\n"
     ]
    },
    {
     "name": "stderr",
     "output_type": "stream",
     "text": [
      "\r",
      " 57%|███████████████████████▉                  | 57/100 [11:32<09:39, 13.47s/it]"
     ]
    },
    {
     "name": "stdout",
     "output_type": "stream",
     "text": [
      "kl_loss  985723.0547485352\n",
      "recons loss  15.188413800671697\n"
     ]
    },
    {
     "name": "stderr",
     "output_type": "stream",
     "text": [
      "\r",
      " 58%|████████████████████████▎                 | 58/100 [11:48<09:57, 14.24s/it]"
     ]
    },
    {
     "name": "stdout",
     "output_type": "stream",
     "text": [
      "kl_loss  984802.166015625\n",
      "recons loss  15.179489753209054\n"
     ]
    },
    {
     "name": "stderr",
     "output_type": "stream",
     "text": [
      "\r",
      " 59%|████████████████████████▊                 | 59/100 [12:00<09:20, 13.66s/it]"
     ]
    },
    {
     "name": "stdout",
     "output_type": "stream",
     "text": [
      "kl_loss  985218.8284301758\n",
      "recons loss  15.146075417287648\n"
     ]
    },
    {
     "name": "stderr",
     "output_type": "stream",
     "text": [
      "\r",
      " 60%|█████████████████████████▏                | 60/100 [12:12<08:38, 12.97s/it]"
     ]
    },
    {
     "name": "stdout",
     "output_type": "stream",
     "text": [
      "kl_loss  982380.3544921875\n",
      "recons loss  15.143388238735497\n"
     ]
    },
    {
     "name": "stderr",
     "output_type": "stream",
     "text": [
      "\r",
      " 61%|█████████████████████████▌                | 61/100 [12:23<08:10, 12.58s/it]"
     ]
    },
    {
     "name": "stdout",
     "output_type": "stream",
     "text": [
      "kl_loss  983068.391784668\n",
      "recons loss  15.096513468772173\n"
     ]
    },
    {
     "name": "stderr",
     "output_type": "stream",
     "text": [
      "\r",
      " 62%|██████████████████████████                | 62/100 [12:35<07:43, 12.21s/it]"
     ]
    },
    {
     "name": "stdout",
     "output_type": "stream",
     "text": [
      "kl_loss  982084.8419799805\n",
      "recons loss  15.100324510596693\n"
     ]
    },
    {
     "name": "stderr",
     "output_type": "stream",
     "text": [
      "\r",
      " 63%|██████████████████████████▍               | 63/100 [12:46<07:20, 11.90s/it]"
     ]
    },
    {
     "name": "stdout",
     "output_type": "stream",
     "text": [
      "kl_loss  981679.6777954102\n",
      "recons loss  15.08294216543436\n"
     ]
    },
    {
     "name": "stderr",
     "output_type": "stream",
     "text": [
      "\r",
      " 64%|██████████████████████████▉               | 64/100 [12:57<06:59, 11.66s/it]"
     ]
    },
    {
     "name": "stdout",
     "output_type": "stream",
     "text": [
      "kl_loss  980414.4406433105\n",
      "recons loss  15.069272176362574\n"
     ]
    },
    {
     "name": "stderr",
     "output_type": "stream",
     "text": [
      "\r",
      " 65%|███████████████████████████▎              | 65/100 [13:08<06:40, 11.45s/it]"
     ]
    },
    {
     "name": "stdout",
     "output_type": "stream",
     "text": [
      "kl_loss  980333.3070678711\n",
      "recons loss  15.049188346602023\n"
     ]
    },
    {
     "name": "stderr",
     "output_type": "stream",
     "text": [
      "\r",
      " 66%|███████████████████████████▋              | 66/100 [13:19<06:24, 11.31s/it]"
     ]
    },
    {
     "name": "stdout",
     "output_type": "stream",
     "text": [
      "kl_loss  980866.5640563965\n",
      "recons loss  15.023636632598937\n"
     ]
    },
    {
     "name": "stderr",
     "output_type": "stream",
     "text": [
      "\r",
      " 67%|████████████████████████████▏             | 67/100 [13:30<06:09, 11.21s/it]"
     ]
    },
    {
     "name": "stdout",
     "output_type": "stream",
     "text": [
      "kl_loss  980418.7952270508\n",
      "recons loss  15.003568629734218\n"
     ]
    },
    {
     "name": "stderr",
     "output_type": "stream",
     "text": [
      "\r",
      " 68%|████████████████████████████▌             | 68/100 [13:41<05:57, 11.16s/it]"
     ]
    },
    {
     "name": "stdout",
     "output_type": "stream",
     "text": [
      "kl_loss  979135.1391906738\n",
      "recons loss  15.000151203013957\n"
     ]
    },
    {
     "name": "stderr",
     "output_type": "stream",
     "text": [
      "\r",
      " 69%|████████████████████████████▉             | 69/100 [13:52<05:44, 11.12s/it]"
     ]
    },
    {
     "name": "stdout",
     "output_type": "stream",
     "text": [
      "kl_loss  977906.6900024414\n",
      "recons loss  14.972201507538557\n"
     ]
    },
    {
     "name": "stderr",
     "output_type": "stream",
     "text": [
      "\r",
      " 70%|█████████████████████████████▍            | 70/100 [14:03<05:32, 11.08s/it]"
     ]
    },
    {
     "name": "stdout",
     "output_type": "stream",
     "text": [
      "kl_loss  978785.0463256836\n",
      "recons loss  14.983515502884984\n"
     ]
    },
    {
     "name": "stderr",
     "output_type": "stream",
     "text": [
      "\r",
      " 71%|█████████████████████████████▊            | 71/100 [14:14<05:20, 11.07s/it]"
     ]
    },
    {
     "name": "stdout",
     "output_type": "stream",
     "text": [
      "kl_loss  978880.8981323242\n",
      "recons loss  14.93580845464021\n"
     ]
    },
    {
     "name": "stderr",
     "output_type": "stream",
     "text": [
      "\r",
      " 72%|██████████████████████████████▏           | 72/100 [14:25<05:09, 11.04s/it]"
     ]
    },
    {
     "name": "stdout",
     "output_type": "stream",
     "text": [
      "kl_loss  978074.1087646484\n",
      "recons loss  14.91672426275909\n"
     ]
    },
    {
     "name": "stderr",
     "output_type": "stream",
     "text": [
      "\r",
      " 73%|██████████████████████████████▋           | 73/100 [14:36<04:57, 11.01s/it]"
     ]
    },
    {
     "name": "stdout",
     "output_type": "stream",
     "text": [
      "kl_loss  978694.1582641602\n",
      "recons loss  14.906065593473613\n"
     ]
    },
    {
     "name": "stderr",
     "output_type": "stream",
     "text": [
      "\r",
      " 74%|███████████████████████████████           | 74/100 [14:47<04:46, 11.01s/it]"
     ]
    },
    {
     "name": "stdout",
     "output_type": "stream",
     "text": [
      "kl_loss  977302.1151733398\n",
      "recons loss  14.902228753082454\n"
     ]
    },
    {
     "name": "stderr",
     "output_type": "stream",
     "text": [
      "\r",
      " 75%|███████████████████████████████▌          | 75/100 [14:58<04:35, 11.01s/it]"
     ]
    },
    {
     "name": "stdout",
     "output_type": "stream",
     "text": [
      "kl_loss  974679.8714599609\n",
      "recons loss  14.89013134688139\n"
     ]
    },
    {
     "name": "stderr",
     "output_type": "stream",
     "text": [
      "\r",
      " 76%|███████████████████████████████▉          | 76/100 [15:09<04:23, 10.98s/it]"
     ]
    },
    {
     "name": "stdout",
     "output_type": "stream",
     "text": [
      "kl_loss  976648.4728088379\n",
      "recons loss  14.869856286793947\n"
     ]
    },
    {
     "name": "stderr",
     "output_type": "stream",
     "text": [
      "\r",
      " 77%|████████████████████████████████▎         | 77/100 [15:20<04:12, 10.96s/it]"
     ]
    },
    {
     "name": "stdout",
     "output_type": "stream",
     "text": [
      "kl_loss  976086.51953125\n",
      "recons loss  14.836419207975268\n"
     ]
    },
    {
     "name": "stderr",
     "output_type": "stream",
     "text": [
      "\r",
      " 78%|████████████████████████████████▊         | 78/100 [15:31<04:01, 10.98s/it]"
     ]
    },
    {
     "name": "stdout",
     "output_type": "stream",
     "text": [
      "kl_loss  976057.4037475586\n",
      "recons loss  14.834294095635414\n"
     ]
    },
    {
     "name": "stderr",
     "output_type": "stream",
     "text": [
      "\r",
      " 79%|█████████████████████████████████▏        | 79/100 [15:42<03:50, 10.99s/it]"
     ]
    },
    {
     "name": "stdout",
     "output_type": "stream",
     "text": [
      "kl_loss  975784.4501953125\n",
      "recons loss  14.817111532203853\n"
     ]
    },
    {
     "name": "stderr",
     "output_type": "stream",
     "text": [
      "\r",
      " 80%|█████████████████████████████████▌        | 80/100 [15:53<03:40, 11.01s/it]"
     ]
    },
    {
     "name": "stdout",
     "output_type": "stream",
     "text": [
      "kl_loss  974738.119140625\n",
      "recons loss  14.806154364719987\n"
     ]
    },
    {
     "name": "stderr",
     "output_type": "stream",
     "text": [
      "\r",
      " 81%|██████████████████████████████████        | 81/100 [16:04<03:28, 10.99s/it]"
     ]
    },
    {
     "name": "stdout",
     "output_type": "stream",
     "text": [
      "kl_loss  974448.1859130859\n",
      "recons loss  14.81520427763462\n"
     ]
    },
    {
     "name": "stderr",
     "output_type": "stream",
     "text": [
      "\r",
      " 82%|██████████████████████████████████▍       | 82/100 [16:15<03:18, 11.03s/it]"
     ]
    },
    {
     "name": "stdout",
     "output_type": "stream",
     "text": [
      "kl_loss  973369.8733520508\n",
      "recons loss  14.761546342633665\n"
     ]
    },
    {
     "name": "stderr",
     "output_type": "stream",
     "text": [
      "\r",
      " 83%|██████████████████████████████████▊       | 83/100 [16:26<03:07, 11.01s/it]"
     ]
    },
    {
     "name": "stdout",
     "output_type": "stream",
     "text": [
      "kl_loss  973849.6362915039\n",
      "recons loss  14.757120026275516\n"
     ]
    },
    {
     "name": "stderr",
     "output_type": "stream",
     "text": [
      "\r",
      " 84%|███████████████████████████████████▎      | 84/100 [16:37<02:55, 10.99s/it]"
     ]
    },
    {
     "name": "stdout",
     "output_type": "stream",
     "text": [
      "kl_loss  971750.1260375977\n",
      "recons loss  14.754445407539606\n"
     ]
    },
    {
     "name": "stderr",
     "output_type": "stream",
     "text": [
      "\r",
      " 85%|███████████████████████████████████▋      | 85/100 [16:48<02:44, 10.99s/it]"
     ]
    },
    {
     "name": "stdout",
     "output_type": "stream",
     "text": [
      "kl_loss  974803.585144043\n",
      "recons loss  14.751428101211786\n"
     ]
    },
    {
     "name": "stderr",
     "output_type": "stream",
     "text": [
      "\r",
      " 86%|████████████████████████████████████      | 86/100 [16:59<02:34, 11.00s/it]"
     ]
    },
    {
     "name": "stdout",
     "output_type": "stream",
     "text": [
      "kl_loss  973158.1778564453\n",
      "recons loss  14.731759417802095\n"
     ]
    },
    {
     "name": "stderr",
     "output_type": "stream",
     "text": [
      "\r",
      " 87%|████████████████████████████████████▌     | 87/100 [17:10<02:22, 10.97s/it]"
     ]
    },
    {
     "name": "stdout",
     "output_type": "stream",
     "text": [
      "kl_loss  973313.2958984375\n",
      "recons loss  14.718793597072363\n"
     ]
    },
    {
     "name": "stderr",
     "output_type": "stream",
     "text": [
      "\r",
      " 88%|████████████████████████████████████▉     | 88/100 [17:21<02:11, 10.97s/it]"
     ]
    },
    {
     "name": "stdout",
     "output_type": "stream",
     "text": [
      "kl_loss  972108.0283813477\n",
      "recons loss  14.69748059567064\n"
     ]
    },
    {
     "name": "stderr",
     "output_type": "stream",
     "text": [
      "\r",
      " 89%|█████████████████████████████████████▍    | 89/100 [17:32<02:01, 11.02s/it]"
     ]
    },
    {
     "name": "stdout",
     "output_type": "stream",
     "text": [
      "kl_loss  971143.4514160156\n",
      "recons loss  14.693284477107227\n"
     ]
    },
    {
     "name": "stderr",
     "output_type": "stream",
     "text": [
      "\r",
      " 90%|█████████████████████████████████████▊    | 90/100 [17:43<01:50, 11.00s/it]"
     ]
    },
    {
     "name": "stdout",
     "output_type": "stream",
     "text": [
      "kl_loss  971560.6952514648\n",
      "recons loss  14.698698341846466\n"
     ]
    },
    {
     "name": "stderr",
     "output_type": "stream",
     "text": [
      "\r",
      " 91%|██████████████████████████████████████▏   | 91/100 [17:54<01:39, 11.01s/it]"
     ]
    },
    {
     "name": "stdout",
     "output_type": "stream",
     "text": [
      "kl_loss  970705.5118408203\n",
      "recons loss  14.666327604092658\n"
     ]
    },
    {
     "name": "stderr",
     "output_type": "stream",
     "text": [
      "\r",
      " 92%|██████████████████████████████████████▋   | 92/100 [18:05<01:28, 11.04s/it]"
     ]
    },
    {
     "name": "stdout",
     "output_type": "stream",
     "text": [
      "kl_loss  973560.7562255859\n",
      "recons loss  14.658751716837287\n"
     ]
    },
    {
     "name": "stderr",
     "output_type": "stream",
     "text": [
      "\r",
      " 93%|███████████████████████████████████████   | 93/100 [18:16<01:17, 11.05s/it]"
     ]
    },
    {
     "name": "stdout",
     "output_type": "stream",
     "text": [
      "kl_loss  969664.2974243164\n",
      "recons loss  14.64780106395483\n"
     ]
    },
    {
     "name": "stderr",
     "output_type": "stream",
     "text": [
      "\r",
      " 94%|███████████████████████████████████████▍  | 94/100 [18:27<01:06, 11.06s/it]"
     ]
    },
    {
     "name": "stdout",
     "output_type": "stream",
     "text": [
      "kl_loss  970840.9069213867\n",
      "recons loss  14.640069965273142\n"
     ]
    },
    {
     "name": "stderr",
     "output_type": "stream",
     "text": [
      "\r",
      " 95%|███████████████████████████████████████▉  | 95/100 [18:38<00:55, 11.06s/it]"
     ]
    },
    {
     "name": "stdout",
     "output_type": "stream",
     "text": [
      "kl_loss  970455.1329956055\n",
      "recons loss  14.621538764797151\n"
     ]
    },
    {
     "name": "stderr",
     "output_type": "stream",
     "text": [
      "\r",
      " 96%|████████████████████████████████████████▎ | 96/100 [18:49<00:44, 11.04s/it]"
     ]
    },
    {
     "name": "stdout",
     "output_type": "stream",
     "text": [
      "kl_loss  968542.9724121094\n",
      "recons loss  14.632821357809007\n"
     ]
    },
    {
     "name": "stderr",
     "output_type": "stream",
     "text": [
      "\r",
      " 97%|████████████████████████████████████████▋ | 97/100 [19:00<00:33, 11.04s/it]"
     ]
    },
    {
     "name": "stdout",
     "output_type": "stream",
     "text": [
      "kl_loss  970516.7277832031\n",
      "recons loss  14.622285484336317\n"
     ]
    },
    {
     "name": "stderr",
     "output_type": "stream",
     "text": [
      "\r",
      " 98%|█████████████████████████████████████████▏| 98/100 [19:11<00:22, 11.02s/it]"
     ]
    },
    {
     "name": "stdout",
     "output_type": "stream",
     "text": [
      "kl_loss  969500.1137084961\n",
      "recons loss  14.59360489435494\n"
     ]
    },
    {
     "name": "stderr",
     "output_type": "stream",
     "text": [
      "\r",
      " 99%|█████████████████████████████████████████▌| 99/100 [19:22<00:10, 11.00s/it]"
     ]
    },
    {
     "name": "stdout",
     "output_type": "stream",
     "text": [
      "kl_loss  969456.0690917969\n",
      "recons loss  14.59690744522959\n"
     ]
    },
    {
     "name": "stderr",
     "output_type": "stream",
     "text": [
      "100%|█████████████████████████████████████████| 100/100 [19:33<00:00, 11.74s/it]"
     ]
    },
    {
     "name": "stdout",
     "output_type": "stream",
     "text": [
      "kl_loss  968289.3124389648\n",
      "recons loss  14.577844925224781\n"
     ]
    },
    {
     "name": "stderr",
     "output_type": "stream",
     "text": [
      "\n"
     ]
    }
   ],
   "source": [
    "''' Now we train the network '''\n",
    "train_network = VariationalAutoEncoder(channel_dim)\n",
    "\n",
    "epochs = 100\n",
    "for e in tqdm(range(epochs)):\n",
    "    kl_loss = 0.0\n",
    "    reconstruction_loss = 0.0\n",
    "    for batch_images, _ in train_loader:\n",
    "        \n",
    "        batch_images = batch_images[:,:, ::2, ::2]\n",
    "        #batch_images = batch_images[:, :, 1:-1, 1:-1]\n",
    "        \n",
    "        train_network.optimizer.zero_grad()\n",
    "        \n",
    "        images, latent_rep = train_network.forward(batch_images)\n",
    "        \n",
    "        loss = train_network.loss(batch_images, images, latent_rep[0], latent_rep[1])\n",
    "        \n",
    "        #print('kld: ',loss['kl_divergence'].shape)\n",
    "        #print('recons: ', loss['reconstruction_loss'].shape)\n",
    "        \n",
    "        kld_loss = loss['kl_divergence'].detach().numpy()\n",
    "        recons = loss['reconstruction_loss'].detach().numpy()\n",
    "        #print(added_loss)\n",
    "        kl_loss += kld_loss\n",
    "        reconstruction_loss += recons\n",
    "        \n",
    "        loss['loss'].backward()\n",
    "        \n",
    "        #for network in train_network.optimizer:\n",
    "        #    optimizer = train_network.optimizer[network]\n",
    "        #    optimizer.zero_grad()\n",
    "        #    optimizer.step()\n",
    "        \n",
    "        #parameters = train_network.parameters\n",
    "        #optimizer = train_network.optimizer\n",
    "        train_network.optimizer.step()\n",
    "        \n",
    "        \n",
    "    else:\n",
    "        print('kl_loss ', kl_loss)\n",
    "        print('recons loss ', reconstruction_loss)"
   ]
  },
  {
   "cell_type": "code",
   "execution_count": 63,
   "id": "588f83d7",
   "metadata": {},
   "outputs": [
    {
     "name": "stdout",
     "output_type": "stream",
     "text": [
      "24.0\n"
     ]
    }
   ],
   "source": []
  },
  {
   "cell_type": "code",
   "execution_count": 67,
   "id": "78c6de1e",
   "metadata": {},
   "outputs": [
    {
     "name": "stdout",
     "output_type": "stream",
     "text": [
      "torch.Size([1, 14, 14])\n",
      "torch.Size([1, 14, 14])\n",
      "torch.Size([1, 14, 14])\n",
      "torch.Size([1, 14, 14])\n",
      "torch.Size([1, 14, 14])\n",
      "torch.Size([1, 14, 14])\n",
      "torch.Size([1, 14, 14])\n"
     ]
    },
    {
     "ename": "IndexError",
     "evalue": "index 6 is out of bounds for axis 0 with size 6",
     "output_type": "error",
     "traceback": [
      "\u001b[0;31m---------------------------------------------------------------------------\u001b[0m",
      "\u001b[0;31mIndexError\u001b[0m                                Traceback (most recent call last)",
      "Cell \u001b[0;32mIn[67], line 9\u001b[0m\n\u001b[1;32m      6\u001b[0m cur_sample_img \u001b[38;5;241m=\u001b[39m cur_sample_img[:, ::\u001b[38;5;241m2\u001b[39m, ::\u001b[38;5;241m2\u001b[39m]\n\u001b[1;32m      7\u001b[0m \u001b[38;5;28mprint\u001b[39m(cur_sample_img\u001b[38;5;241m.\u001b[39mshape)\n\u001b[0;32m----> 9\u001b[0m \u001b[43max\u001b[49m\u001b[43m[\u001b[49m\u001b[38;5;241;43m0\u001b[39;49m\u001b[43m]\u001b[49m\u001b[43m[\u001b[49m\u001b[43mi\u001b[49m\u001b[43m]\u001b[49m\u001b[38;5;241m.\u001b[39mimshow(np\u001b[38;5;241m.\u001b[39msqueeze(cur_sample_img), cmap\u001b[38;5;241m=\u001b[39m\u001b[38;5;124m'\u001b[39m\u001b[38;5;124mgray\u001b[39m\u001b[38;5;124m'\u001b[39m) \n\u001b[1;32m     11\u001b[0m gen_image \u001b[38;5;241m=\u001b[39m train_network\u001b[38;5;241m.\u001b[39mforward(cur_sample_img\u001b[38;5;241m.\u001b[39munsqueeze(\u001b[38;5;241m0\u001b[39m))\n\u001b[1;32m     12\u001b[0m gen_image \u001b[38;5;241m=\u001b[39m gen_image[\u001b[38;5;241m0\u001b[39m]\u001b[38;5;241m.\u001b[39mdetach()\u001b[38;5;241m.\u001b[39mnumpy()\n",
      "\u001b[0;31mIndexError\u001b[0m: index 6 is out of bounds for axis 0 with size 6"
     ]
    },
    {
     "data": {
      "image/png": "[encoded data removed]",
      "text/plain": [
       "<Figure size 1500x500 with 12 Axes>"
      ]
     },
     "metadata": {},
     "output_type": "display_data"
    }
   ],
   "source": [
    "fig, ax = plt.subplots(2, 6, figsize = (15, 5))\n",
    "\n",
    "for i, data in enumerate(train_loader):\n",
    "    imgs, labels = data\n",
    "    cur_sample_img = imgs[i]\n",
    "    cur_sample_img = cur_sample_img[:, ::2, ::2]\n",
    "    print(cur_sample_img.shape)\n",
    "    \n",
    "    ax[0][i].imshow(np.squeeze(cur_sample_img), cmap='gray') \n",
    "    \n",
    "    gen_image = train_network.forward(cur_sample_img.unsqueeze(0))\n",
    "    gen_image = gen_image[0].detach().numpy()\n",
    "    ax[1][i].imshow(np.squeeze(gen_image), cmap='gray')\n",
    "            \n",
    "    \n"
   ]
  },
  {
   "cell_type": "code",
   "execution_count": 68,
   "id": "3fa60448",
   "metadata": {},
   "outputs": [
    {
     "data": {
      "image/png": "[encoded data removed]",
      "text/plain": [
       "<Figure size 640x480 with 2 Axes>"
      ]
     },
     "metadata": {},
     "output_type": "display_data"
    },
    {
     "name": "stdout",
     "output_type": "stream",
     "text": [
      "torch.Size([32, 50])\n"
     ]
    },
    {
     "data": {
      "image/png": "[encoded data removed]",
      "text/plain": [
       "<Figure size 640x480 with 2 Axes>"
      ]
     },
     "metadata": {},
     "output_type": "display_data"
    },
    {
     "name": "stdout",
     "output_type": "stream",
     "text": [
      "torch.Size([32, 50])\n"
     ]
    }
   ],
   "source": [
    "# The first image is the mean latent space.\n",
    "# The second image is the variance latent space.\n",
    "\n",
    "plt.imshow(latent_rep[0].detach().numpy())\n",
    "plt.colorbar()\n",
    "plt.show()\n",
    "print(latent_rep[0].shape)\n",
    "\n",
    "plt.imshow(latent_rep[1].detach().numpy())\n",
    "plt.colorbar()\n",
    "plt.show()\n",
    "print(latent_rep[1].shape)"
   ]
  },
  {
   "cell_type": "code",
   "execution_count": 77,
   "id": "4aa3912e",
   "metadata": {},
   "outputs": [
    {
     "name": "stdout",
     "output_type": "stream",
     "text": [
      "torch.Size([32, 1, 1, 1])\n",
      "torch.Size([32, 1, 1, 1])\n"
     ]
    },
    {
     "data": {
      "text/plain": [
       "<matplotlib.image.AxesImage at 0x7fef6555d750>"
      ]
     },
     "execution_count": 77,
     "metadata": {},
     "output_type": "execute_result"
    },
    {
     "data": {
      "image/png": "[encoded data removed]",
      "text/plain": [
       "<Figure size 640x480 with 1 Axes>"
      ]
     },
     "metadata": {},
     "output_type": "display_data"
    }
   ],
   "source": [
    "print(batch_images.shape)\n",
    "batch_images = batch_images[:,:, ::2, ::2]\n",
    "print(batch_images.shape)\n",
    "plt.imshow(batch_images[0].squeeze(0).detach().numpy())"
   ]
  },
  {
   "cell_type": "code",
   "execution_count": 73,
   "id": "3d50a52c",
   "metadata": {},
   "outputs": [
    {
     "ename": "TypeError",
     "evalue": "'Axes' object is not subscriptable",
     "output_type": "error",
     "traceback": [
      "\u001b[0;31m---------------------------------------------------------------------------\u001b[0m",
      "\u001b[0;31mTypeError\u001b[0m                                 Traceback (most recent call last)",
      "Cell \u001b[0;32mIn[73], line 4\u001b[0m\n\u001b[1;32m      1\u001b[0m fig, ax \u001b[38;5;241m=\u001b[39m plt\u001b[38;5;241m.\u001b[39msubplots(\u001b[38;5;241m1\u001b[39m, \u001b[38;5;241m6\u001b[39m, figsize \u001b[38;5;241m=\u001b[39m (\u001b[38;5;241m15\u001b[39m, \u001b[38;5;241m5\u001b[39m))\n\u001b[1;32m      3\u001b[0m \u001b[38;5;28;01mfor\u001b[39;00m i \u001b[38;5;129;01min\u001b[39;00m \u001b[38;5;28mrange\u001b[39m(\u001b[38;5;241m6\u001b[39m):\n\u001b[0;32m----> 4\u001b[0m     pannel \u001b[38;5;241m=\u001b[39m \u001b[43max\u001b[49m\u001b[43m[\u001b[49m\u001b[38;5;241;43m0\u001b[39;49m\u001b[43m]\u001b[49m\u001b[43m[\u001b[49m\u001b[43mi\u001b[49m\u001b[43m]\u001b[49m\u001b[38;5;241m.\u001b[39mimshow(np\u001b[38;5;241m.\u001b[39msqueeze(images[i]\u001b[38;5;241m.\u001b[39mdetach()\u001b[38;5;241m.\u001b[39mnumpy()), cmap\u001b[38;5;241m=\u001b[39m\u001b[38;5;124m'\u001b[39m\u001b[38;5;124mgray\u001b[39m\u001b[38;5;124m'\u001b[39m) \n\u001b[1;32m      5\u001b[0m     plt\u001b[38;5;241m.\u001b[39mcolorbar(pannel, ax \u001b[38;5;241m=\u001b[39m ax[\u001b[38;5;241m0\u001b[39m][i])\n",
      "\u001b[0;31mTypeError\u001b[0m: 'Axes' object is not subscriptable"
     ]
    },
    {
     "data": {
      "image/png": "[encoded data removed]",
      "text/plain": [
       "<Figure size 1500x500 with 6 Axes>"
      ]
     },
     "metadata": {},
     "output_type": "display_data"
    }
   ],
   "source": [
    "fig, ax = plt.subplots(1, 6, figsize = (15, 5))\n",
    "\n",
    "for i in range(6):\n",
    "    pannel = ax[0][i].imshow(np.squeeze(images[i].detach().numpy()), cmap='gray') \n",
    "    plt.colorbar(pannel, ax = ax[0][i])"
   ]
  },
  {
   "cell_type": "code",
   "execution_count": 23,
   "id": "ed8fab1d",
   "metadata": {},
   "outputs": [
    {
     "data": {
      "text/plain": [
       "tensor(0.0037, grad_fn=<StdBackward0>)"
      ]
     },
     "execution_count": 23,
     "metadata": {},
     "output_type": "execute_result"
    }
   ],
   "source": [
    "    \n",
    "images[:,0,6,2].std()"
   ]
  },
  {
   "cell_type": "code",
   "execution_count": 79,
   "id": "50470806",
   "metadata": {},
   "outputs": [
    {
     "data": {
      "image/png": "[encoded data removed]",
      "text/plain": [
       "<Figure size 500x500 with 6 Axes>"
      ]
     },
     "metadata": {},
     "output_type": "display_data"
    }
   ],
   "source": [
    "import random as rnd\n",
    "\n",
    "figure, axx = plt.subplots(1, 6, figsize = (5, 5))\n",
    "\n",
    "\n",
    "for l in range(6):\n",
    "    # Randomly sample tensors:\n",
    "    random_mean_sample = torch.randn(50)\n",
    "    random_var_sample = torch.randn(50)\n",
    "    #print(random_mean_sample)\n",
    "\n",
    "    reparam_rnd_sample = train_network.reparametrization(random_mean_sample, random_var_sample)\n",
    "    reparam_rnd_sample = reparam_rnd_sample.unsqueeze(0)\n",
    "\n",
    "    random_sample = train_network.decode(reparam_rnd_sample).squeeze(0)\n",
    "\n",
    "    axx[l].imshow(random_sample.squeeze(0).detach().numpy())\n",
    "    \n",
    "\n"
   ]
  },
  {
   "cell_type": "code",
   "execution_count": null,
   "id": "7adf346f",
   "metadata": {},
   "outputs": [],
   "source": []
  },
  {
   "cell_type": "code",
   "execution_count": null,
   "id": "13ac9d4e",
   "metadata": {},
   "outputs": [],
   "source": []
  }
 ],
 "metadata": {
  "kernelspec": {
   "display_name": "Python 3 (ipykernel)",
   "language": "python",
   "name": "python3"
  },
  "language_info": {
   "codemirror_mode": {
    "name": "ipython",
    "version": 3
   },
   "file_extension": ".py",
   "mimetype": "text/x-python",
   "name": "python",
   "nbconvert_exporter": "python",
   "pygments_lexer": "ipython3",
   "version": "3.10.6"
  }
 },
 "nbformat": 4,
 "nbformat_minor": 5
}
